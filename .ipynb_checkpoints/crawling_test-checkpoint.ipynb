{
 "cells": [
  {
   "cell_type": "code",
   "execution_count": 1,
   "id": "chronic-unknown",
   "metadata": {},
   "outputs": [],
   "source": [
    "# Import packages\n",
    "from selenium import webdriver\n",
    "from bs4 import BeautifulSoup\n",
    "import pandas as pd\n",
    "from datetime import datetime\n",
    "import requests\n",
    "import re"
   ]
  },
  {
   "cell_type": "code",
   "execution_count": 2,
   "id": "resident-cornwall",
   "metadata": {},
   "outputs": [],
   "source": [
    "# http://www.useragentstring.com/\n",
    "# for User-Agent"
   ]
  },
  {
   "cell_type": "code",
   "execution_count": 3,
   "id": "fatal-arrival",
   "metadata": {},
   "outputs": [],
   "source": [
    "headers = {'User-Agent': 'Mozilla/5.0 (Windows NT 10.0; Win64; x64) AppleWebKit/537.36 (KHTML, like Gecko) Chrome/89.0.4389.90 Safari/537.36'}\n",
    " \n",
    "url = \"https://www.melon.com/chart/index.htm\"\n",
    "res = requests.get(url, headers=headers).text\n",
    "soup = BeautifulSoup(res)"
   ]
  },
  {
   "cell_type": "code",
   "execution_count": 4,
   "id": "korean-attendance",
   "metadata": {},
   "outputs": [
    {
     "data": {
      "text/plain": [
       "'<div class=\"ellipsis rank01\"><span>\\n<a href=\"javascript:melon.play.playSong(\\'19030101\\',33372781);\" title=\"라일락 재생\">라일락</a>\\n</span></div>'"
      ]
     },
     "execution_count": 4,
     "metadata": {},
     "output_type": "execute_result"
    }
   ],
   "source": [
    "# 노래 정보 확인\n",
    "songs = soup.select('div.ellipsis.rank01')\n",
    "str(songs[0])"
   ]
  },
  {
   "cell_type": "code",
   "execution_count": 5,
   "id": "likely-maple",
   "metadata": {},
   "outputs": [
    {
     "data": {
      "text/plain": [
       "'33372781'"
      ]
     },
     "execution_count": 5,
     "metadata": {},
     "output_type": "execute_result"
    }
   ],
   "source": [
    "# 노래 ID 확인\n",
    "re.findall('\\,(\\d+)\\)',str(songs[0]))[0]"
   ]
  },
  {
   "cell_type": "code",
   "execution_count": 6,
   "id": "communist-ireland",
   "metadata": {},
   "outputs": [],
   "source": [
    "# 기본 정보 로드\n",
    "songs = soup.select('div.ellipsis.rank01')\n",
    "singers = soup.select('div.ellipsis.rank02 > span.checkEllipsis')\n",
    "song_ids = [re.findall('\\,(\\d+)\\)', str(song))[0] for song in songs]"
   ]
  },
  {
   "cell_type": "code",
   "execution_count": 7,
   "id": "steady-sheffield",
   "metadata": {},
   "outputs": [
    {
     "data": {
      "text/html": [
       "<div>\n",
       "<style scoped>\n",
       "    .dataframe tbody tr th:only-of-type {\n",
       "        vertical-align: middle;\n",
       "    }\n",
       "\n",
       "    .dataframe tbody tr th {\n",
       "        vertical-align: top;\n",
       "    }\n",
       "\n",
       "    .dataframe thead th {\n",
       "        text-align: right;\n",
       "    }\n",
       "</style>\n",
       "<table border=\"1\" class=\"dataframe\">\n",
       "  <thead>\n",
       "    <tr style=\"text-align: right;\">\n",
       "      <th></th>\n",
       "      <th>Rank</th>\n",
       "      <th>Title</th>\n",
       "      <th>Singer</th>\n",
       "      <th>Song_Ids</th>\n",
       "    </tr>\n",
       "  </thead>\n",
       "  <tbody>\n",
       "    <tr>\n",
       "      <th>0</th>\n",
       "      <td>1</td>\n",
       "      <td>라일락</td>\n",
       "      <td>아이유</td>\n",
       "      <td>33372781</td>\n",
       "    </tr>\n",
       "    <tr>\n",
       "      <th>1</th>\n",
       "      <td>2</td>\n",
       "      <td>롤린 (Rollin')</td>\n",
       "      <td>브레이브걸스</td>\n",
       "      <td>30287019</td>\n",
       "    </tr>\n",
       "    <tr>\n",
       "      <th>2</th>\n",
       "      <td>3</td>\n",
       "      <td>Celebrity</td>\n",
       "      <td>아이유</td>\n",
       "      <td>33239419</td>\n",
       "    </tr>\n",
       "    <tr>\n",
       "      <th>3</th>\n",
       "      <td>4</td>\n",
       "      <td>Coin</td>\n",
       "      <td>아이유</td>\n",
       "      <td>33372783</td>\n",
       "    </tr>\n",
       "    <tr>\n",
       "      <th>4</th>\n",
       "      <td>5</td>\n",
       "      <td>On The Ground</td>\n",
       "      <td>로제 (ROSÉ)</td>\n",
       "      <td>33346446</td>\n",
       "    </tr>\n",
       "  </tbody>\n",
       "</table>\n",
       "</div>"
      ],
      "text/plain": [
       "   Rank          Title     Singer  Song_Ids\n",
       "0     1            라일락        아이유  33372781\n",
       "1     2   롤린 (Rollin')     브레이브걸스  30287019\n",
       "2     3      Celebrity        아이유  33239419\n",
       "3     4           Coin        아이유  33372783\n",
       "4     5  On The Ground  로제 (ROSÉ)  33346446"
      ]
     },
     "execution_count": 7,
     "metadata": {},
     "output_type": "execute_result"
    }
   ],
   "source": [
    "# 기본 음악 데이터\n",
    "list_song = [song.text.strip('\\n') for song in songs]\n",
    "list_singer = [singer.text for singer in singers]\n",
    "data = pd.DataFrame(data=zip(range(1,101),list_song, list_singer, song_ids), columns=['Rank', 'Title', 'Singer','Song_Ids'])\n",
    "data.head()"
   ]
  },
  {
   "cell_type": "code",
   "execution_count": 8,
   "id": "macro-evening",
   "metadata": {},
   "outputs": [],
   "source": [
    "# 가사 데이터 링크\n",
    "ly_address = 'https://www.melon.com/song/detail.htm?songId='"
   ]
  },
  {
   "cell_type": "code",
   "execution_count": 9,
   "id": "adolescent-services",
   "metadata": {},
   "outputs": [],
   "source": [
    "res = requests.get(ly_address+'33372781', headers=headers).text\n",
    "soup = BeautifulSoup(res)"
   ]
  },
  {
   "cell_type": "code",
   "execution_count": 10,
   "id": "hairy-tender",
   "metadata": {},
   "outputs": [],
   "source": [
    "lyrics = soup.select('div.lyric')"
   ]
  },
  {
   "cell_type": "code",
   "execution_count": 11,
   "id": "fossil-friendship",
   "metadata": {},
   "outputs": [
    {
     "data": {
      "text/plain": [
       "'나리는 꽃가루에 눈이 따끔해 (아야)<br/>눈물이 고여도 꾹 참을래<br/>내 마음 한켠 비밀스런 오르골에 넣어두고서<br/>영원히 되감을 순간이니까 <br/><br/>우리 둘의 마지막 페이지를 잘 부탁해<br/>어느 작별이 이보다 완벽할까<br/>Love me only till this spring<br/><br/>오 라일락 꽃이 지는 날 good bye<br/>이런 결말이 어울려 <br/>안녕 꽃잎 같은 안녕<br/>하이얀 우리 봄날의 climax<br/>아 얼마나 기쁜 일이야<br/><br/>Ooh ooh <br/>Love me only till this spring<br/>봄바람처럼<br/>Ooh ooh <br/>Love me only till this spring<br/>봄바람처럼<br/><br/>기분이 달아 콧노래 부르네 (랄라)<br/>입꼬리는 살짝 올린 채<br/>어쩜 이렇게 하늘은 더 바람은 또 완벽한 건지<br/>오늘따라 내 모습 맘에 들어<br/><br/>처음 만난 그날처럼 예쁘다고 말해줄래<br/>어느 이별이 이토록 달콤할까<br/>Love resembles misty dream<br/><br/>오 라일락 꽃이 지는 날 good bye<br/>이런 결말이 어울려<br/>안녕 꽃잎 같은 안녕<br/>하이얀 우리 봄날의 climax<br/>아 얼마나 기쁜 일이야<br/><br/>Ooh ooh <br/>Love resembles misty dream<br/>뜬구름처럼<br/>Ooh ooh <br/>Love resembles misty dream<br/>뜬구름처럼<br/><br/>너도 언젠가 날 잊게 될까<br/>지금 표정과 오늘의 향기도<br/>단잠 사이에 스쳐간<br/>봄날의 꿈처럼<br/><br/>오 라일락 꽃이 지는 날 good bye<br/>너의 대답이 날 울려<br/>안녕 약속 같은 안녕<br/>하이얀 우리 봄날에 climax<br/>아 얼마나 기쁜 일이야<br/><br/>Ooh ooh <br/>Love me only untill this spring<br/>봄바람처럼<br/>Ooh ooh <br/>Love me only untill this spring<br/>봄바람처럼<br/><br/>Ooh ooh <br/>Love resembles misty dream<br/>뜬구름처럼<br/>Ooh ooh <br/>Love resembles misty dream<br/>뜬구름처럼<br/>'"
      ]
     },
     "execution_count": 11,
     "metadata": {},
     "output_type": "execute_result"
    }
   ],
   "source": [
    "# 가사 부분\n",
    "temp = re.findall('\\r\\n\\t\\t\\t\\t\\t\\t\\t(.+)', str(lyrics))\n",
    "temp[0]"
   ]
  },
  {
   "cell_type": "code",
   "execution_count": 12,
   "id": "infrared-discretion",
   "metadata": {},
   "outputs": [
    {
     "data": {
      "text/plain": [
       "'나리는 꽃가루에 눈이 따끔해 (아야) 눈물이 고여도 꾹 참을래 내 마음 한켠 비밀스런 오르골에 넣어두고서 영원히 되감을 순간이니까   우리 둘의 마지막 페이지를 잘 부탁해 어느 작별이 이보다 완벽할까 Love me only till this spring  오 라일락 꽃이 지는 날 good bye 이런 결말이 어울려  안녕 꽃잎 같은 안녕 하이얀 우리 봄날의 climax 아 얼마나 기쁜 일이야  Ooh ooh  Love me only till this spring 봄바람처럼 Ooh ooh  Love me only till this spring 봄바람처럼  기분이 달아 콧노래 부르네 (랄라) 입꼬리는 살짝 올린 채 어쩜 이렇게 하늘은 더 바람은 또 완벽한 건지 오늘따라 내 모습 맘에 들어  처음 만난 그날처럼 예쁘다고 말해줄래 어느 이별이 이토록 달콤할까 Love resembles misty dream  오 라일락 꽃이 지는 날 good bye 이런 결말이 어울려 안녕 꽃잎 같은 안녕 하이얀 우리 봄날의 climax 아 얼마나 기쁜 일이야  Ooh ooh  Love resembles misty dream 뜬구름처럼 Ooh ooh  Love resembles misty dream 뜬구름처럼  너도 언젠가 날 잊게 될까 지금 표정과 오늘의 향기도 단잠 사이에 스쳐간 봄날의 꿈처럼  오 라일락 꽃이 지는 날 good bye 너의 대답이 날 울려 안녕 약속 같은 안녕 하이얀 우리 봄날에 climax 아 얼마나 기쁜 일이야  Ooh ooh  Love me only untill this spring 봄바람처럼 Ooh ooh  Love me only untill this spring 봄바람처럼  Ooh ooh  Love resembles misty dream 뜬구름처럼 Ooh ooh  Love resembles misty dream 뜬구름처럼 '"
      ]
     },
     "execution_count": 12,
     "metadata": {},
     "output_type": "execute_result"
    }
   ],
   "source": [
    "# <br/> 제거\n",
    "re.sub('<br/>', ' ', temp[0])"
   ]
  },
  {
   "cell_type": "code",
   "execution_count": 13,
   "id": "signed-disaster",
   "metadata": {},
   "outputs": [],
   "source": [
    "# 전체 데이터 생성\n",
    "# 시간 오래걸려서 많은 데이터 구성시 Ray 적용 고려\n",
    "def get_lyric(song_id):\n",
    "    res = requests.get(ly_address+str(song_id), headers=headers).text\n",
    "    soup = BeautifulSoup(res)\n",
    "    lyrics = soup.select('div.lyric')\n",
    "    temp = re.findall('\\r\\n\\t\\t\\t\\t\\t\\t\\t(.+)', str(lyrics))\n",
    "    return re.sub('<br/>', ' ', temp[0])\n",
    "    \n",
    "lyrics_list = [get_lyric(x) for x in song_ids]"
   ]
  },
  {
   "cell_type": "code",
   "execution_count": 14,
   "id": "associate-collective",
   "metadata": {},
   "outputs": [
    {
     "data": {
      "text/html": [
       "<div>\n",
       "<style scoped>\n",
       "    .dataframe tbody tr th:only-of-type {\n",
       "        vertical-align: middle;\n",
       "    }\n",
       "\n",
       "    .dataframe tbody tr th {\n",
       "        vertical-align: top;\n",
       "    }\n",
       "\n",
       "    .dataframe thead th {\n",
       "        text-align: right;\n",
       "    }\n",
       "</style>\n",
       "<table border=\"1\" class=\"dataframe\">\n",
       "  <thead>\n",
       "    <tr style=\"text-align: right;\">\n",
       "      <th></th>\n",
       "      <th>Rank</th>\n",
       "      <th>Title</th>\n",
       "      <th>Singer</th>\n",
       "      <th>Song_Ids</th>\n",
       "      <th>Lyrics</th>\n",
       "    </tr>\n",
       "  </thead>\n",
       "  <tbody>\n",
       "    <tr>\n",
       "      <th>0</th>\n",
       "      <td>1</td>\n",
       "      <td>라일락</td>\n",
       "      <td>아이유</td>\n",
       "      <td>33372781</td>\n",
       "      <td>나리는 꽃가루에 눈이 따끔해 (아야) 눈물이 고여도 꾹 참을래 내 마음 한켠 비밀스...</td>\n",
       "    </tr>\n",
       "    <tr>\n",
       "      <th>1</th>\n",
       "      <td>2</td>\n",
       "      <td>롤린 (Rollin')</td>\n",
       "      <td>브레이브걸스</td>\n",
       "      <td>30287019</td>\n",
       "      <td>그 날을 잊지 못해 babe 날 보며 환히 웃던  너의 미소에 홀린 듯  I'm f...</td>\n",
       "    </tr>\n",
       "    <tr>\n",
       "      <th>2</th>\n",
       "      <td>3</td>\n",
       "      <td>Celebrity</td>\n",
       "      <td>아이유</td>\n",
       "      <td>33239419</td>\n",
       "      <td>세상의 모서리 구부정하게 커버린 골칫거리 outsider  걸음걸이, 옷차림,  이...</td>\n",
       "    </tr>\n",
       "    <tr>\n",
       "      <th>3</th>\n",
       "      <td>4</td>\n",
       "      <td>Coin</td>\n",
       "      <td>아이유</td>\n",
       "      <td>33372783</td>\n",
       "      <td>강자에게 더 세게 I love gamble 과감할수록 신세계 on my table ...</td>\n",
       "    </tr>\n",
       "    <tr>\n",
       "      <th>4</th>\n",
       "      <td>5</td>\n",
       "      <td>On The Ground</td>\n",
       "      <td>로제 (ROSÉ)</td>\n",
       "      <td>33346446</td>\n",
       "      <td>My life's been magic seems fantastic  I used t...</td>\n",
       "    </tr>\n",
       "  </tbody>\n",
       "</table>\n",
       "</div>"
      ],
      "text/plain": [
       "   Rank          Title     Singer  Song_Ids  \\\n",
       "0     1            라일락        아이유  33372781   \n",
       "1     2   롤린 (Rollin')     브레이브걸스  30287019   \n",
       "2     3      Celebrity        아이유  33239419   \n",
       "3     4           Coin        아이유  33372783   \n",
       "4     5  On The Ground  로제 (ROSÉ)  33346446   \n",
       "\n",
       "                                              Lyrics  \n",
       "0  나리는 꽃가루에 눈이 따끔해 (아야) 눈물이 고여도 꾹 참을래 내 마음 한켠 비밀스...  \n",
       "1  그 날을 잊지 못해 babe 날 보며 환히 웃던  너의 미소에 홀린 듯  I'm f...  \n",
       "2  세상의 모서리 구부정하게 커버린 골칫거리 outsider  걸음걸이, 옷차림,  이...  \n",
       "3  강자에게 더 세게 I love gamble 과감할수록 신세계 on my table ...  \n",
       "4  My life's been magic seems fantastic  I used t...  "
      ]
     },
     "execution_count": 14,
     "metadata": {},
     "output_type": "execute_result"
    }
   ],
   "source": [
    "data['Lyrics'] = lyrics_list\n",
    "data.head()"
   ]
  },
  {
   "cell_type": "code",
   "execution_count": 15,
   "id": "sticky-recycling",
   "metadata": {},
   "outputs": [],
   "source": [
    "# 한글깨짐 방지\n",
    "data.to_csv('data/2021-03-28_Top100.csv', index=False, encoding='utf-8-sig')\n",
    "data.to_excel('data/2020-03-28_Top100.xlsx', index=False)"
   ]
  },
  {
   "cell_type": "code",
   "execution_count": null,
   "id": "alternative-underwear",
   "metadata": {},
   "outputs": [],
   "source": []
  }
 ],
 "metadata": {
  "kernelspec": {
   "display_name": "Python 3",
   "language": "python",
   "name": "python3"
  },
  "language_info": {
   "codemirror_mode": {
    "name": "ipython",
    "version": 3
   },
   "file_extension": ".py",
   "mimetype": "text/x-python",
   "name": "python",
   "nbconvert_exporter": "python",
   "pygments_lexer": "ipython3",
   "version": "3.8.8"
  }
 },
 "nbformat": 4,
 "nbformat_minor": 5
}
